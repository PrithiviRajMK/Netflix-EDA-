{
 "cells": [
  {
   "cell_type": "markdown",
   "id": "b517dfd1",
   "metadata": {},
   "source": []
  },
  {
   "cell_type": "markdown",
   "id": "7ce8b73f",
   "metadata": {},
   "source": [
    "# Import Required Libary"
   ]
  },
  {
   "cell_type": "code",
   "execution_count": 396,
   "id": "c7a6530d",
   "metadata": {},
   "outputs": [],
   "source": [
    "import numpy as np\n",
    "import pandas as pd\n",
    "import seaborn as sns\n",
    "import matplotlib.pyplot as plt"
   ]
  },
  {
   "cell_type": "code",
   "execution_count": 397,
   "id": "208db8bf",
   "metadata": {},
   "outputs": [],
   "source": [
    "df=pd.read_csv(\"C:/Users/User/ML Prac/netflix.csv\")\n"
   ]
  },
  {
   "cell_type": "code",
   "execution_count": 398,
   "id": "4b4ef83b",
   "metadata": {},
   "outputs": [
    {
     "data": {
      "text/html": [
       "<div>\n",
       "<style scoped>\n",
       "    .dataframe tbody tr th:only-of-type {\n",
       "        vertical-align: middle;\n",
       "    }\n",
       "\n",
       "    .dataframe tbody tr th {\n",
       "        vertical-align: top;\n",
       "    }\n",
       "\n",
       "    .dataframe thead th {\n",
       "        text-align: right;\n",
       "    }\n",
       "</style>\n",
       "<table border=\"1\" class=\"dataframe\">\n",
       "  <thead>\n",
       "    <tr style=\"text-align: right;\">\n",
       "      <th></th>\n",
       "      <th>show_id</th>\n",
       "      <th>type</th>\n",
       "      <th>title</th>\n",
       "      <th>director</th>\n",
       "      <th>cast</th>\n",
       "      <th>country</th>\n",
       "      <th>date_added</th>\n",
       "      <th>release_year</th>\n",
       "      <th>rating</th>\n",
       "      <th>duration</th>\n",
       "      <th>listed_in</th>\n",
       "      <th>description</th>\n",
       "    </tr>\n",
       "  </thead>\n",
       "  <tbody>\n",
       "    <tr>\n",
       "      <th>0</th>\n",
       "      <td>s1</td>\n",
       "      <td>Movie</td>\n",
       "      <td>Dick Johnson Is Dead</td>\n",
       "      <td>Kirsten Johnson</td>\n",
       "      <td>NaN</td>\n",
       "      <td>United States</td>\n",
       "      <td>2021-09-25</td>\n",
       "      <td>2020</td>\n",
       "      <td>PG-13</td>\n",
       "      <td>90 min</td>\n",
       "      <td>Documentaries</td>\n",
       "      <td>As her father nears the end of his life, filmm...</td>\n",
       "    </tr>\n",
       "    <tr>\n",
       "      <th>1</th>\n",
       "      <td>s2</td>\n",
       "      <td>TV Show</td>\n",
       "      <td>Blood &amp; Water</td>\n",
       "      <td>NaN</td>\n",
       "      <td>Ama Qamata, Khosi Ngema, Gail Mabalane, Thaban...</td>\n",
       "      <td>South Africa</td>\n",
       "      <td>2021-09-24</td>\n",
       "      <td>2021</td>\n",
       "      <td>TV-MA</td>\n",
       "      <td>2 Seasons</td>\n",
       "      <td>International TV Shows, TV Dramas, TV Mysteries</td>\n",
       "      <td>After crossing paths at a party, a Cape Town t...</td>\n",
       "    </tr>\n",
       "    <tr>\n",
       "      <th>2</th>\n",
       "      <td>s3</td>\n",
       "      <td>TV Show</td>\n",
       "      <td>Ganglands</td>\n",
       "      <td>Julien Leclercq</td>\n",
       "      <td>Sami Bouajila, Tracy Gotoas, Samuel Jouy, Nabi...</td>\n",
       "      <td>NaN</td>\n",
       "      <td>2021-09-24</td>\n",
       "      <td>2021</td>\n",
       "      <td>TV-MA</td>\n",
       "      <td>1 Season</td>\n",
       "      <td>Crime TV Shows, International TV Shows, TV Act...</td>\n",
       "      <td>To protect his family from a powerful drug lor...</td>\n",
       "    </tr>\n",
       "    <tr>\n",
       "      <th>3</th>\n",
       "      <td>s4</td>\n",
       "      <td>TV Show</td>\n",
       "      <td>Jailbirds New Orleans</td>\n",
       "      <td>NaN</td>\n",
       "      <td>NaN</td>\n",
       "      <td>NaN</td>\n",
       "      <td>2021-09-24</td>\n",
       "      <td>2021</td>\n",
       "      <td>TV-MA</td>\n",
       "      <td>1 Season</td>\n",
       "      <td>Docuseries, Reality TV</td>\n",
       "      <td>Feuds, flirtations and toilet talk go down amo...</td>\n",
       "    </tr>\n",
       "    <tr>\n",
       "      <th>4</th>\n",
       "      <td>s5</td>\n",
       "      <td>TV Show</td>\n",
       "      <td>Kota Factory</td>\n",
       "      <td>NaN</td>\n",
       "      <td>Mayur More, Jitendra Kumar, Ranjan Raj, Alam K...</td>\n",
       "      <td>India</td>\n",
       "      <td>2021-09-24</td>\n",
       "      <td>2021</td>\n",
       "      <td>TV-MA</td>\n",
       "      <td>2 Seasons</td>\n",
       "      <td>International TV Shows, Romantic TV Shows, TV ...</td>\n",
       "      <td>In a city of coaching centers known to train I...</td>\n",
       "    </tr>\n",
       "  </tbody>\n",
       "</table>\n",
       "</div>"
      ],
      "text/plain": [
       "  show_id     type                  title         director  \\\n",
       "0      s1    Movie   Dick Johnson Is Dead  Kirsten Johnson   \n",
       "1      s2  TV Show          Blood & Water              NaN   \n",
       "2      s3  TV Show              Ganglands  Julien Leclercq   \n",
       "3      s4  TV Show  Jailbirds New Orleans              NaN   \n",
       "4      s5  TV Show           Kota Factory              NaN   \n",
       "\n",
       "                                                cast        country  \\\n",
       "0                                                NaN  United States   \n",
       "1  Ama Qamata, Khosi Ngema, Gail Mabalane, Thaban...   South Africa   \n",
       "2  Sami Bouajila, Tracy Gotoas, Samuel Jouy, Nabi...            NaN   \n",
       "3                                                NaN            NaN   \n",
       "4  Mayur More, Jitendra Kumar, Ranjan Raj, Alam K...          India   \n",
       "\n",
       "  date_added  release_year rating   duration  \\\n",
       "0 2021-09-25          2020  PG-13     90 min   \n",
       "1 2021-09-24          2021  TV-MA  2 Seasons   \n",
       "2 2021-09-24          2021  TV-MA   1 Season   \n",
       "3 2021-09-24          2021  TV-MA   1 Season   \n",
       "4 2021-09-24          2021  TV-MA  2 Seasons   \n",
       "\n",
       "                                           listed_in  \\\n",
       "0                                      Documentaries   \n",
       "1    International TV Shows, TV Dramas, TV Mysteries   \n",
       "2  Crime TV Shows, International TV Shows, TV Act...   \n",
       "3                             Docuseries, Reality TV   \n",
       "4  International TV Shows, Romantic TV Shows, TV ...   \n",
       "\n",
       "                                         description  \n",
       "0  As her father nears the end of his life, filmm...  \n",
       "1  After crossing paths at a party, a Cape Town t...  \n",
       "2  To protect his family from a powerful drug lor...  \n",
       "3  Feuds, flirtations and toilet talk go down amo...  \n",
       "4  In a city of coaching centers known to train I...  "
      ]
     },
     "execution_count": 398,
     "metadata": {},
     "output_type": "execute_result"
    }
   ],
   "source": [
    "df['date_added'] = pd.to_datetime(df['date_added'])\n",
    "df.head()"
   ]
  },
  {
   "cell_type": "code",
   "execution_count": 399,
   "id": "a7237b27",
   "metadata": {},
   "outputs": [
    {
     "data": {
      "text/html": [
       "<div>\n",
       "<style scoped>\n",
       "    .dataframe tbody tr th:only-of-type {\n",
       "        vertical-align: middle;\n",
       "    }\n",
       "\n",
       "    .dataframe tbody tr th {\n",
       "        vertical-align: top;\n",
       "    }\n",
       "\n",
       "    .dataframe thead th {\n",
       "        text-align: right;\n",
       "    }\n",
       "</style>\n",
       "<table border=\"1\" class=\"dataframe\">\n",
       "  <thead>\n",
       "    <tr style=\"text-align: right;\">\n",
       "      <th></th>\n",
       "      <th>show_id</th>\n",
       "      <th>type</th>\n",
       "      <th>title</th>\n",
       "      <th>director</th>\n",
       "      <th>cast</th>\n",
       "      <th>country</th>\n",
       "      <th>date_added</th>\n",
       "      <th>release_year</th>\n",
       "      <th>rating</th>\n",
       "      <th>duration</th>\n",
       "      <th>listed_in</th>\n",
       "      <th>description</th>\n",
       "    </tr>\n",
       "  </thead>\n",
       "  <tbody>\n",
       "    <tr>\n",
       "      <th>8802</th>\n",
       "      <td>s8803</td>\n",
       "      <td>Movie</td>\n",
       "      <td>Zodiac</td>\n",
       "      <td>David Fincher</td>\n",
       "      <td>Mark Ruffalo, Jake Gyllenhaal, Robert Downey J...</td>\n",
       "      <td>United States</td>\n",
       "      <td>2019-11-20</td>\n",
       "      <td>2007</td>\n",
       "      <td>R</td>\n",
       "      <td>158 min</td>\n",
       "      <td>Cult Movies, Dramas, Thrillers</td>\n",
       "      <td>A political cartoonist, a crime reporter and a...</td>\n",
       "    </tr>\n",
       "    <tr>\n",
       "      <th>8803</th>\n",
       "      <td>s8804</td>\n",
       "      <td>TV Show</td>\n",
       "      <td>Zombie Dumb</td>\n",
       "      <td>NaN</td>\n",
       "      <td>NaN</td>\n",
       "      <td>NaN</td>\n",
       "      <td>2019-07-01</td>\n",
       "      <td>2018</td>\n",
       "      <td>TV-Y7</td>\n",
       "      <td>2 Seasons</td>\n",
       "      <td>Kids' TV, Korean TV Shows, TV Comedies</td>\n",
       "      <td>While living alone in a spooky town, a young g...</td>\n",
       "    </tr>\n",
       "    <tr>\n",
       "      <th>8804</th>\n",
       "      <td>s8805</td>\n",
       "      <td>Movie</td>\n",
       "      <td>Zombieland</td>\n",
       "      <td>Ruben Fleischer</td>\n",
       "      <td>Jesse Eisenberg, Woody Harrelson, Emma Stone, ...</td>\n",
       "      <td>United States</td>\n",
       "      <td>2019-11-01</td>\n",
       "      <td>2009</td>\n",
       "      <td>R</td>\n",
       "      <td>88 min</td>\n",
       "      <td>Comedies, Horror Movies</td>\n",
       "      <td>Looking to survive in a world taken over by zo...</td>\n",
       "    </tr>\n",
       "    <tr>\n",
       "      <th>8805</th>\n",
       "      <td>s8806</td>\n",
       "      <td>Movie</td>\n",
       "      <td>Zoom</td>\n",
       "      <td>Peter Hewitt</td>\n",
       "      <td>Tim Allen, Courteney Cox, Chevy Chase, Kate Ma...</td>\n",
       "      <td>United States</td>\n",
       "      <td>2020-01-11</td>\n",
       "      <td>2006</td>\n",
       "      <td>PG</td>\n",
       "      <td>88 min</td>\n",
       "      <td>Children &amp; Family Movies, Comedies</td>\n",
       "      <td>Dragged from civilian life, a former superhero...</td>\n",
       "    </tr>\n",
       "    <tr>\n",
       "      <th>8806</th>\n",
       "      <td>s8807</td>\n",
       "      <td>Movie</td>\n",
       "      <td>Zubaan</td>\n",
       "      <td>Mozez Singh</td>\n",
       "      <td>Vicky Kaushal, Sarah-Jane Dias, Raaghav Chanan...</td>\n",
       "      <td>India</td>\n",
       "      <td>2019-03-02</td>\n",
       "      <td>2015</td>\n",
       "      <td>TV-14</td>\n",
       "      <td>111 min</td>\n",
       "      <td>Dramas, International Movies, Music &amp; Musicals</td>\n",
       "      <td>A scrappy but poor boy worms his way into a ty...</td>\n",
       "    </tr>\n",
       "  </tbody>\n",
       "</table>\n",
       "</div>"
      ],
      "text/plain": [
       "     show_id     type        title         director  \\\n",
       "8802   s8803    Movie       Zodiac    David Fincher   \n",
       "8803   s8804  TV Show  Zombie Dumb              NaN   \n",
       "8804   s8805    Movie   Zombieland  Ruben Fleischer   \n",
       "8805   s8806    Movie         Zoom     Peter Hewitt   \n",
       "8806   s8807    Movie       Zubaan      Mozez Singh   \n",
       "\n",
       "                                                   cast        country  \\\n",
       "8802  Mark Ruffalo, Jake Gyllenhaal, Robert Downey J...  United States   \n",
       "8803                                                NaN            NaN   \n",
       "8804  Jesse Eisenberg, Woody Harrelson, Emma Stone, ...  United States   \n",
       "8805  Tim Allen, Courteney Cox, Chevy Chase, Kate Ma...  United States   \n",
       "8806  Vicky Kaushal, Sarah-Jane Dias, Raaghav Chanan...          India   \n",
       "\n",
       "     date_added  release_year rating   duration  \\\n",
       "8802 2019-11-20          2007      R    158 min   \n",
       "8803 2019-07-01          2018  TV-Y7  2 Seasons   \n",
       "8804 2019-11-01          2009      R     88 min   \n",
       "8805 2020-01-11          2006     PG     88 min   \n",
       "8806 2019-03-02          2015  TV-14    111 min   \n",
       "\n",
       "                                           listed_in  \\\n",
       "8802                  Cult Movies, Dramas, Thrillers   \n",
       "8803          Kids' TV, Korean TV Shows, TV Comedies   \n",
       "8804                         Comedies, Horror Movies   \n",
       "8805              Children & Family Movies, Comedies   \n",
       "8806  Dramas, International Movies, Music & Musicals   \n",
       "\n",
       "                                            description  \n",
       "8802  A political cartoonist, a crime reporter and a...  \n",
       "8803  While living alone in a spooky town, a young g...  \n",
       "8804  Looking to survive in a world taken over by zo...  \n",
       "8805  Dragged from civilian life, a former superhero...  \n",
       "8806  A scrappy but poor boy worms his way into a ty...  "
      ]
     },
     "execution_count": 399,
     "metadata": {},
     "output_type": "execute_result"
    }
   ],
   "source": [
    "df.tail()"
   ]
  },
  {
   "cell_type": "code",
   "execution_count": 400,
   "id": "8f0ee4f5",
   "metadata": {},
   "outputs": [
    {
     "data": {
      "text/plain": [
       "(8807, 12)"
      ]
     },
     "execution_count": 400,
     "metadata": {},
     "output_type": "execute_result"
    }
   ],
   "source": [
    "df.shape"
   ]
  },
  {
   "cell_type": "code",
   "execution_count": 401,
   "id": "8306e653",
   "metadata": {},
   "outputs": [
    {
     "data": {
      "text/plain": [
       "0"
      ]
     },
     "execution_count": 401,
     "metadata": {},
     "output_type": "execute_result"
    }
   ],
   "source": [
    "df.duplicated().sum()"
   ]
  },
  {
   "cell_type": "code",
   "execution_count": 402,
   "id": "f5011553",
   "metadata": {},
   "outputs": [
    {
     "data": {
      "text/plain": [
       "Index(['show_id', 'type', 'title', 'director', 'cast', 'country', 'date_added',\n",
       "       'release_year', 'rating', 'duration', 'listed_in', 'description'],\n",
       "      dtype='object')"
      ]
     },
     "execution_count": 402,
     "metadata": {},
     "output_type": "execute_result"
    }
   ],
   "source": [
    "df.columns"
   ]
  },
  {
   "cell_type": "code",
   "execution_count": 403,
   "id": "c8013154",
   "metadata": {},
   "outputs": [
    {
     "name": "stdout",
     "output_type": "stream",
     "text": [
      "<class 'pandas.core.frame.DataFrame'>\n",
      "RangeIndex: 8807 entries, 0 to 8806\n",
      "Data columns (total 12 columns):\n",
      " #   Column        Non-Null Count  Dtype         \n",
      "---  ------        --------------  -----         \n",
      " 0   show_id       8807 non-null   object        \n",
      " 1   type          8807 non-null   object        \n",
      " 2   title         8807 non-null   object        \n",
      " 3   director      6173 non-null   object        \n",
      " 4   cast          7982 non-null   object        \n",
      " 5   country       7976 non-null   object        \n",
      " 6   date_added    8797 non-null   datetime64[ns]\n",
      " 7   release_year  8807 non-null   int64         \n",
      " 8   rating        8803 non-null   object        \n",
      " 9   duration      8804 non-null   object        \n",
      " 10  listed_in     8807 non-null   object        \n",
      " 11  description   8807 non-null   object        \n",
      "dtypes: datetime64[ns](1), int64(1), object(10)\n",
      "memory usage: 825.8+ KB\n"
     ]
    }
   ],
   "source": [
    "df.info()"
   ]
  },
  {
   "cell_type": "code",
   "execution_count": 404,
   "id": "925f76bd",
   "metadata": {},
   "outputs": [],
   "source": [
    "df['date_added']=pd.to_datetime(df['date_added'])\n",
    "df = df.astype({'release_year':'int'})"
   ]
  },
  {
   "cell_type": "code",
   "execution_count": 405,
   "id": "87d8ea4d",
   "metadata": {},
   "outputs": [
    {
     "data": {
      "text/plain": [
       "show_id                 object\n",
       "type                    object\n",
       "title                   object\n",
       "director                object\n",
       "cast                    object\n",
       "country                 object\n",
       "date_added      datetime64[ns]\n",
       "release_year             int32\n",
       "rating                  object\n",
       "duration                object\n",
       "listed_in               object\n",
       "description             object\n",
       "dtype: object"
      ]
     },
     "execution_count": 405,
     "metadata": {},
     "output_type": "execute_result"
    }
   ],
   "source": [
    "df.dtypes"
   ]
  },
  {
   "cell_type": "markdown",
   "id": "16ba5387",
   "metadata": {},
   "source": [
    "3. Non-Graphical Analysis: Value counts and unique attributes ​​(10 Points)\n"
   ]
  },
  {
   "cell_type": "code",
   "execution_count": 406,
   "id": "0b638ee1",
   "metadata": {},
   "outputs": [
    {
     "data": {
      "text/plain": [
       "show_id         8807\n",
       "type               2\n",
       "title           8807\n",
       "director        4528\n",
       "cast            7692\n",
       "country          748\n",
       "date_added      1714\n",
       "release_year      74\n",
       "rating            17\n",
       "duration         220\n",
       "listed_in        514\n",
       "description     8775\n",
       "dtype: int64"
      ]
     },
     "execution_count": 406,
     "metadata": {},
     "output_type": "execute_result"
    }
   ],
   "source": [
    "df.nunique()"
   ]
  },
  {
   "cell_type": "code",
   "execution_count": 407,
   "id": "2b41c64d",
   "metadata": {},
   "outputs": [
    {
     "data": {
      "text/plain": [
       "TV-MA       2062\n",
       "TV-14       1427\n",
       "R            797\n",
       "TV-PG        540\n",
       "PG-13        490\n",
       "PG           287\n",
       "TV-Y7        139\n",
       "TV-Y         131\n",
       "TV-G         126\n",
       "NR            75\n",
       "G             41\n",
       "TV-Y7-FV       5\n",
       "NC-17          3\n",
       "UR             3\n",
       "74 min         1\n",
       "84 min         1\n",
       "66 min         1\n",
       "Name: rating, dtype: int64"
      ]
     },
     "execution_count": 407,
     "metadata": {},
     "output_type": "execute_result"
    }
   ],
   "source": [
    "mask1 = (df['type'] == 'Movie')\n",
    "\n",
    "#mask1['rating'].value_counts()\n",
    "movie_rating=df[mask1]\n",
    "movie_rating['rating'].value_counts()"
   ]
  },
  {
   "cell_type": "code",
   "execution_count": 408,
   "id": "8295eb81",
   "metadata": {},
   "outputs": [
    {
     "data": {
      "text/plain": [
       "show_id          0.000000\n",
       "type             0.000000\n",
       "title            0.000000\n",
       "director        29.908028\n",
       "cast             9.367549\n",
       "country          9.435676\n",
       "date_added       0.113546\n",
       "release_year     0.000000\n",
       "rating           0.045418\n",
       "duration         0.034064\n",
       "listed_in        0.000000\n",
       "description      0.000000\n",
       "dtype: float64"
      ]
     },
     "execution_count": 408,
     "metadata": {},
     "output_type": "execute_result"
    }
   ],
   "source": [
    "#Find the Missing Data Percentage\n",
    "null_count=df.isnull().sum()\n",
    "#print(null_count)\n",
    "((null_count)/len(df)*100)"
   ]
  },
  {
   "cell_type": "code",
   "execution_count": 409,
   "id": "dd0e6b1b",
   "metadata": {},
   "outputs": [
    {
     "data": {
      "text/plain": [
       "<AxesSubplot:>"
      ]
     },
     "execution_count": 409,
     "metadata": {},
     "output_type": "execute_result"
    },
    {
     "data": {
      "image/png": "[encoded data removed]",
      "text/plain": [
       "<Figure size 432x288 with 2 Axes>"
      ]
     },
     "metadata": {
      "needs_background": "light"
     },
     "output_type": "display_data"
    }
   ],
   "source": [
    "sns.heatmap(df.isnull())"
   ]
  },
  {
   "cell_type": "markdown",
   "id": "6f15418d",
   "metadata": {},
   "source": [
    "Replace the Missing values for the columns =>  rating, Duration, date_added with the Highest Repeated Frequency in that Column"
   ]
  },
  {
   "cell_type": "code",
   "execution_count": 410,
   "id": "72c9a24b",
   "metadata": {},
   "outputs": [],
   "source": [
    "for ColName in df[['rating','duration','date_added']]:\n",
    "    df[ColName].fillna(df[ColName].value_counts().index[0],inplace=True)"
   ]
  },
  {
   "cell_type": "markdown",
   "id": "4c6bf9cb",
   "metadata": {},
   "source": [
    "Fill All the missing values to => \"Unknown\" with fillna() Since it has High number of missing and can't replace with highest repeated value"
   ]
  },
  {
   "cell_type": "code",
   "execution_count": 411,
   "id": "f3fb4b48",
   "metadata": {},
   "outputs": [],
   "source": [
    "for ColName in df[['cast','country','director']]:\n",
    "    df[ColName].fillna(\"Unknown\",inplace=True)"
   ]
  },
  {
   "cell_type": "code",
   "execution_count": 412,
   "id": "23dc5034",
   "metadata": {},
   "outputs": [
    {
     "data": {
      "text/plain": [
       "show_id         0\n",
       "type            0\n",
       "title           0\n",
       "director        0\n",
       "cast            0\n",
       "country         0\n",
       "date_added      0\n",
       "release_year    0\n",
       "rating          0\n",
       "duration        0\n",
       "listed_in       0\n",
       "description     0\n",
       "dtype: int64"
      ]
     },
     "execution_count": 412,
     "metadata": {},
     "output_type": "execute_result"
    }
   ],
   "source": [
    "df.isnull().sum()\n"
   ]
  },
  {
   "cell_type": "code",
   "execution_count": 413,
   "id": "1ed86b0b",
   "metadata": {},
   "outputs": [],
   "source": [
    "df['rating']= df['rating'].replace({\n",
    "'TV-MA' :  'Adults',\n",
    "'TV-14' :  'Teen- Age above 14',\n",
    "'R'     :  'Adults',\n",
    "'TV-PG' :  'Kids - with parental guidence',\n",
    "'PG-13' :  'Teen- Age above 12',\n",
    "'PG'    :  'Kids - with parental guidence',    \n",
    "'TV-Y7' :  'Kids- Age above 7', \n",
    "'TV-Y'  :  'Kids',      \n",
    "'TV-G'  :  'Kids', \n",
    "'NR'    :  'NR',\n",
    "'G'     :  'Kids',    \n",
    "'TV-Y7-FV':   'Kids- Age above 7', \n",
    "'NC-17' :  'Adults',  \n",
    "'UR'    :  'UR'})"
   ]
  },
  {
   "cell_type": "code",
   "execution_count": 414,
   "id": "0962e165",
   "metadata": {},
   "outputs": [
    {
     "data": {
      "text/html": [
       "<div>\n",
       "<style scoped>\n",
       "    .dataframe tbody tr th:only-of-type {\n",
       "        vertical-align: middle;\n",
       "    }\n",
       "\n",
       "    .dataframe tbody tr th {\n",
       "        vertical-align: top;\n",
       "    }\n",
       "\n",
       "    .dataframe thead th {\n",
       "        text-align: right;\n",
       "    }\n",
       "</style>\n",
       "<table border=\"1\" class=\"dataframe\">\n",
       "  <thead>\n",
       "    <tr style=\"text-align: right;\">\n",
       "      <th></th>\n",
       "      <th>show_id</th>\n",
       "      <th>type</th>\n",
       "      <th>title</th>\n",
       "      <th>director</th>\n",
       "      <th>cast</th>\n",
       "      <th>country</th>\n",
       "      <th>date_added</th>\n",
       "      <th>release_year</th>\n",
       "      <th>rating</th>\n",
       "      <th>duration</th>\n",
       "      <th>listed_in</th>\n",
       "      <th>description</th>\n",
       "    </tr>\n",
       "  </thead>\n",
       "  <tbody>\n",
       "    <tr>\n",
       "      <th>5541</th>\n",
       "      <td>s5542</td>\n",
       "      <td>Movie</td>\n",
       "      <td>Louis C.K. 2017</td>\n",
       "      <td>Louis C.K.</td>\n",
       "      <td>Louis C.K.</td>\n",
       "      <td>United States</td>\n",
       "      <td>2017-04-04</td>\n",
       "      <td>2017</td>\n",
       "      <td>74 min</td>\n",
       "      <td>1 Season</td>\n",
       "      <td>Movies</td>\n",
       "      <td>Louis C.K. muses on religion, eternal love, gi...</td>\n",
       "    </tr>\n",
       "    <tr>\n",
       "      <th>5794</th>\n",
       "      <td>s5795</td>\n",
       "      <td>Movie</td>\n",
       "      <td>Louis C.K.: Hilarious</td>\n",
       "      <td>Louis C.K.</td>\n",
       "      <td>Louis C.K.</td>\n",
       "      <td>United States</td>\n",
       "      <td>2016-09-16</td>\n",
       "      <td>2010</td>\n",
       "      <td>84 min</td>\n",
       "      <td>1 Season</td>\n",
       "      <td>Movies</td>\n",
       "      <td>Emmy-winning comedy writer Louis C.K. brings h...</td>\n",
       "    </tr>\n",
       "    <tr>\n",
       "      <th>5813</th>\n",
       "      <td>s5814</td>\n",
       "      <td>Movie</td>\n",
       "      <td>Louis C.K.: Live at the Comedy Store</td>\n",
       "      <td>Louis C.K.</td>\n",
       "      <td>Louis C.K.</td>\n",
       "      <td>United States</td>\n",
       "      <td>2016-08-15</td>\n",
       "      <td>2015</td>\n",
       "      <td>66 min</td>\n",
       "      <td>1 Season</td>\n",
       "      <td>Movies</td>\n",
       "      <td>The comic puts his trademark hilarious/thought...</td>\n",
       "    </tr>\n",
       "  </tbody>\n",
       "</table>\n",
       "</div>"
      ],
      "text/plain": [
       "     show_id   type                                 title    director  \\\n",
       "5541   s5542  Movie                       Louis C.K. 2017  Louis C.K.   \n",
       "5794   s5795  Movie                 Louis C.K.: Hilarious  Louis C.K.   \n",
       "5813   s5814  Movie  Louis C.K.: Live at the Comedy Store  Louis C.K.   \n",
       "\n",
       "            cast        country date_added  release_year  rating  duration  \\\n",
       "5541  Louis C.K.  United States 2017-04-04          2017  74 min  1 Season   \n",
       "5794  Louis C.K.  United States 2016-09-16          2010  84 min  1 Season   \n",
       "5813  Louis C.K.  United States 2016-08-15          2015  66 min  1 Season   \n",
       "\n",
       "     listed_in                                        description  \n",
       "5541    Movies  Louis C.K. muses on religion, eternal love, gi...  \n",
       "5794    Movies  Emmy-winning comedy writer Louis C.K. brings h...  \n",
       "5813    Movies  The comic puts his trademark hilarious/thought...  "
      ]
     },
     "execution_count": 414,
     "metadata": {},
     "output_type": "execute_result"
    }
   ],
   "source": [
    "df[df['rating'].str.contains(\"min\")]"
   ]
  },
  {
   "cell_type": "code",
   "execution_count": 415,
   "id": "f867bb4b",
   "metadata": {},
   "outputs": [
    {
     "data": {
      "text/plain": [
       "Adults                           4013\n",
       "Teen- Age above 14               2160\n",
       "Kids - with parental guidence    1150\n",
       "Kids                              568\n",
       "Teen- Age above 12                490\n",
       "Kids- Age above 7                 340\n",
       "NR                                 80\n",
       "TV-MA                               3\n",
       "UR                                  3\n",
       "Name: rating, dtype: int64"
      ]
     },
     "execution_count": 415,
     "metadata": {},
     "output_type": "execute_result"
    }
   ],
   "source": [
    "df.at[5541,'rating']='TV-MA'\n",
    "df.at[5794,'rating']='TV-MA'\n",
    "df.at[5813,'rating']='TV-MA'\n",
    "df.at[5541,'duration']='74 min'\n",
    "df.at[5794,'duration']='84 min'\n",
    "df.at[5813,'duration']='66 min'\n",
    "df['rating'].value_counts()"
   ]
  },
  {
   "cell_type": "markdown",
   "id": "c2c7f929",
   "metadata": {},
   "source": [
    "4. Visual Analysis - Univariate, Bivariate after pre-processing of the data\n",
    "\n",
    "Note: Pre-processing involves unnesting of the data in columns like Actor, Director, Country\n",
    "\n",
    "4.1 For continuous variable(s): Distplot, countplot, histogram for univariate analysis (10 Points)\n",
    "\n",
    "4.2 For categorical variable(s): Boxplot (10 Points)\n",
    "\n",
    "4.3 For correlation: Heatmaps, Pairplots (10 Points)"
   ]
  },
  {
   "cell_type": "code",
   "execution_count": 416,
   "id": "aafeee34",
   "metadata": {},
   "outputs": [
    {
     "name": "stdout",
     "output_type": "stream",
     "text": [
      "----Data_Frame----cast-----Created-----\n",
      "----Data_Frame----country-----Created-----\n",
      "----Data_Frame----listed_in-----Created-----\n",
      "----Data_Frame----director-----Created-----\n"
     ]
    }
   ],
   "source": [
    "def unnest_Col_Values(df, ColName):\n",
    "    print(f\"----Data_Frame----{ColName}-----Created-----\")\n",
    "    df[ColName].apply(lambda x: str(x).split(', ')).tolist()\n",
    "    constraint=df[ColName].apply(lambda x: str(x).split(', ')).tolist()\n",
    "    df_new=pd.DataFrame(constraint,index=df['title'])\n",
    "    df_new=df_new.stack()\n",
    "    df_new=pd.DataFrame(df_new)\n",
    "    df_new.reset_index(inplace=True)\n",
    "    df_new=df_new[['title',0]]\n",
    "    df_new.columns=['title',ColName]\n",
    "    \n",
    "    return df_new\n",
    "\n",
    "df_cast = unnest_Col_Values(df, 'cast')\n",
    "df_country = unnest_Col_Values(df, 'country')\n",
    "df_listed_in = unnest_Col_Values(df, 'listed_in')\n",
    "df_director = unnest_Col_Values(df, 'director')\n",
    "    "
   ]
  },
  {
   "cell_type": "code",
   "execution_count": 417,
   "id": "83e35d31",
   "metadata": {},
   "outputs": [
    {
     "data": {
      "text/html": [
       "<div>\n",
       "<style scoped>\n",
       "    .dataframe tbody tr th:only-of-type {\n",
       "        vertical-align: middle;\n",
       "    }\n",
       "\n",
       "    .dataframe tbody tr th {\n",
       "        vertical-align: top;\n",
       "    }\n",
       "\n",
       "    .dataframe thead th {\n",
       "        text-align: right;\n",
       "    }\n",
       "</style>\n",
       "<table border=\"1\" class=\"dataframe\">\n",
       "  <thead>\n",
       "    <tr style=\"text-align: right;\">\n",
       "      <th></th>\n",
       "      <th>title</th>\n",
       "      <th>cast</th>\n",
       "      <th>director</th>\n",
       "    </tr>\n",
       "  </thead>\n",
       "  <tbody>\n",
       "    <tr>\n",
       "      <th>0</th>\n",
       "      <td>Dick Johnson Is Dead</td>\n",
       "      <td>Unknown</td>\n",
       "      <td>Kirsten Johnson</td>\n",
       "    </tr>\n",
       "    <tr>\n",
       "      <th>1</th>\n",
       "      <td>Blood &amp; Water</td>\n",
       "      <td>Ama Qamata</td>\n",
       "      <td>Unknown</td>\n",
       "    </tr>\n",
       "    <tr>\n",
       "      <th>2</th>\n",
       "      <td>Blood &amp; Water</td>\n",
       "      <td>Khosi Ngema</td>\n",
       "      <td>Unknown</td>\n",
       "    </tr>\n",
       "    <tr>\n",
       "      <th>3</th>\n",
       "      <td>Blood &amp; Water</td>\n",
       "      <td>Gail Mabalane</td>\n",
       "      <td>Unknown</td>\n",
       "    </tr>\n",
       "    <tr>\n",
       "      <th>4</th>\n",
       "      <td>Blood &amp; Water</td>\n",
       "      <td>Thabang Molaba</td>\n",
       "      <td>Unknown</td>\n",
       "    </tr>\n",
       "  </tbody>\n",
       "</table>\n",
       "</div>"
      ],
      "text/plain": [
       "                  title            cast         director\n",
       "0  Dick Johnson Is Dead         Unknown  Kirsten Johnson\n",
       "1         Blood & Water      Ama Qamata          Unknown\n",
       "2         Blood & Water     Khosi Ngema          Unknown\n",
       "3         Blood & Water   Gail Mabalane          Unknown\n",
       "4         Blood & Water  Thabang Molaba          Unknown"
      ]
     },
     "execution_count": 417,
     "metadata": {},
     "output_type": "execute_result"
    }
   ],
   "source": [
    "df_cast_director = pd.merge(df_cast, df_director, on='title', how='inner')\n",
    "df_cast_director.head()"
   ]
  },
  {
   "cell_type": "code",
   "execution_count": 418,
   "id": "9ce06acc",
   "metadata": {},
   "outputs": [
    {
     "data": {
      "text/html": [
       "<div>\n",
       "<style scoped>\n",
       "    .dataframe tbody tr th:only-of-type {\n",
       "        vertical-align: middle;\n",
       "    }\n",
       "\n",
       "    .dataframe tbody tr th {\n",
       "        vertical-align: top;\n",
       "    }\n",
       "\n",
       "    .dataframe thead th {\n",
       "        text-align: right;\n",
       "    }\n",
       "</style>\n",
       "<table border=\"1\" class=\"dataframe\">\n",
       "  <thead>\n",
       "    <tr style=\"text-align: right;\">\n",
       "      <th></th>\n",
       "      <th>title</th>\n",
       "      <th>cast</th>\n",
       "      <th>director</th>\n",
       "      <th>listed_in</th>\n",
       "    </tr>\n",
       "  </thead>\n",
       "  <tbody>\n",
       "    <tr>\n",
       "      <th>0</th>\n",
       "      <td>Dick Johnson Is Dead</td>\n",
       "      <td>Unknown</td>\n",
       "      <td>Kirsten Johnson</td>\n",
       "      <td>Documentaries</td>\n",
       "    </tr>\n",
       "    <tr>\n",
       "      <th>1</th>\n",
       "      <td>Blood &amp; Water</td>\n",
       "      <td>Ama Qamata</td>\n",
       "      <td>Unknown</td>\n",
       "      <td>International TV Shows</td>\n",
       "    </tr>\n",
       "    <tr>\n",
       "      <th>2</th>\n",
       "      <td>Blood &amp; Water</td>\n",
       "      <td>Ama Qamata</td>\n",
       "      <td>Unknown</td>\n",
       "      <td>TV Dramas</td>\n",
       "    </tr>\n",
       "    <tr>\n",
       "      <th>3</th>\n",
       "      <td>Blood &amp; Water</td>\n",
       "      <td>Ama Qamata</td>\n",
       "      <td>Unknown</td>\n",
       "      <td>TV Mysteries</td>\n",
       "    </tr>\n",
       "    <tr>\n",
       "      <th>4</th>\n",
       "      <td>Blood &amp; Water</td>\n",
       "      <td>Khosi Ngema</td>\n",
       "      <td>Unknown</td>\n",
       "      <td>International TV Shows</td>\n",
       "    </tr>\n",
       "  </tbody>\n",
       "</table>\n",
       "</div>"
      ],
      "text/plain": [
       "                  title         cast         director               listed_in\n",
       "0  Dick Johnson Is Dead      Unknown  Kirsten Johnson           Documentaries\n",
       "1         Blood & Water   Ama Qamata          Unknown  International TV Shows\n",
       "2         Blood & Water   Ama Qamata          Unknown               TV Dramas\n",
       "3         Blood & Water   Ama Qamata          Unknown            TV Mysteries\n",
       "4         Blood & Water  Khosi Ngema          Unknown  International TV Shows"
      ]
     },
     "execution_count": 418,
     "metadata": {},
     "output_type": "execute_result"
    }
   ],
   "source": [
    "df_cast_director_genre = pd.merge(df_cast_director, df_listed_in, on='title', how='inner')\n",
    "df_cast_director_genre.head()"
   ]
  },
  {
   "cell_type": "code",
   "execution_count": 419,
   "id": "5442f7e6",
   "metadata": {},
   "outputs": [
    {
     "data": {
      "text/html": [
       "<div>\n",
       "<style scoped>\n",
       "    .dataframe tbody tr th:only-of-type {\n",
       "        vertical-align: middle;\n",
       "    }\n",
       "\n",
       "    .dataframe tbody tr th {\n",
       "        vertical-align: top;\n",
       "    }\n",
       "\n",
       "    .dataframe thead th {\n",
       "        text-align: right;\n",
       "    }\n",
       "</style>\n",
       "<table border=\"1\" class=\"dataframe\">\n",
       "  <thead>\n",
       "    <tr style=\"text-align: right;\">\n",
       "      <th></th>\n",
       "      <th>title</th>\n",
       "      <th>cast</th>\n",
       "      <th>director</th>\n",
       "      <th>listed_in</th>\n",
       "      <th>country</th>\n",
       "    </tr>\n",
       "  </thead>\n",
       "  <tbody>\n",
       "    <tr>\n",
       "      <th>0</th>\n",
       "      <td>Dick Johnson Is Dead</td>\n",
       "      <td>Unknown</td>\n",
       "      <td>Kirsten Johnson</td>\n",
       "      <td>Documentaries</td>\n",
       "      <td>United States</td>\n",
       "    </tr>\n",
       "    <tr>\n",
       "      <th>1</th>\n",
       "      <td>Blood &amp; Water</td>\n",
       "      <td>Ama Qamata</td>\n",
       "      <td>Unknown</td>\n",
       "      <td>International TV Shows</td>\n",
       "      <td>South Africa</td>\n",
       "    </tr>\n",
       "    <tr>\n",
       "      <th>2</th>\n",
       "      <td>Blood &amp; Water</td>\n",
       "      <td>Ama Qamata</td>\n",
       "      <td>Unknown</td>\n",
       "      <td>TV Dramas</td>\n",
       "      <td>South Africa</td>\n",
       "    </tr>\n",
       "    <tr>\n",
       "      <th>3</th>\n",
       "      <td>Blood &amp; Water</td>\n",
       "      <td>Ama Qamata</td>\n",
       "      <td>Unknown</td>\n",
       "      <td>TV Mysteries</td>\n",
       "      <td>South Africa</td>\n",
       "    </tr>\n",
       "    <tr>\n",
       "      <th>4</th>\n",
       "      <td>Blood &amp; Water</td>\n",
       "      <td>Khosi Ngema</td>\n",
       "      <td>Unknown</td>\n",
       "      <td>International TV Shows</td>\n",
       "      <td>South Africa</td>\n",
       "    </tr>\n",
       "  </tbody>\n",
       "</table>\n",
       "</div>"
      ],
      "text/plain": [
       "                  title         cast         director               listed_in  \\\n",
       "0  Dick Johnson Is Dead      Unknown  Kirsten Johnson           Documentaries   \n",
       "1         Blood & Water   Ama Qamata          Unknown  International TV Shows   \n",
       "2         Blood & Water   Ama Qamata          Unknown               TV Dramas   \n",
       "3         Blood & Water   Ama Qamata          Unknown            TV Mysteries   \n",
       "4         Blood & Water  Khosi Ngema          Unknown  International TV Shows   \n",
       "\n",
       "         country  \n",
       "0  United States  \n",
       "1   South Africa  \n",
       "2   South Africa  \n",
       "3   South Africa  \n",
       "4   South Africa  "
      ]
     },
     "execution_count": 419,
     "metadata": {},
     "output_type": "execute_result"
    }
   ],
   "source": [
    "df_cast_director_genre_country = pd.merge(df_cast_director_genre, df_country, on='title', how='inner')\n",
    "df_cast_director_genre_country.head()"
   ]
  },
  {
   "cell_type": "code",
   "execution_count": 420,
   "id": "d0a0ce44",
   "metadata": {},
   "outputs": [],
   "source": [
    "df.drop(['director','cast','country','listed_in'],axis=1,inplace=True)"
   ]
  },
  {
   "cell_type": "code",
   "execution_count": 421,
   "id": "5921115d",
   "metadata": {},
   "outputs": [
    {
     "data": {
      "text/html": [
       "<div>\n",
       "<style scoped>\n",
       "    .dataframe tbody tr th:only-of-type {\n",
       "        vertical-align: middle;\n",
       "    }\n",
       "\n",
       "    .dataframe tbody tr th {\n",
       "        vertical-align: top;\n",
       "    }\n",
       "\n",
       "    .dataframe thead th {\n",
       "        text-align: right;\n",
       "    }\n",
       "</style>\n",
       "<table border=\"1\" class=\"dataframe\">\n",
       "  <thead>\n",
       "    <tr style=\"text-align: right;\">\n",
       "      <th></th>\n",
       "      <th>show_id</th>\n",
       "      <th>type</th>\n",
       "      <th>title</th>\n",
       "      <th>date_added</th>\n",
       "      <th>release_year</th>\n",
       "      <th>rating</th>\n",
       "      <th>duration</th>\n",
       "      <th>description</th>\n",
       "      <th>cast</th>\n",
       "      <th>director</th>\n",
       "      <th>listed_in</th>\n",
       "      <th>country</th>\n",
       "    </tr>\n",
       "  </thead>\n",
       "  <tbody>\n",
       "    <tr>\n",
       "      <th>0</th>\n",
       "      <td>s1</td>\n",
       "      <td>Movie</td>\n",
       "      <td>Dick Johnson Is Dead</td>\n",
       "      <td>2021-09-25</td>\n",
       "      <td>2020</td>\n",
       "      <td>Teen- Age above 12</td>\n",
       "      <td>90 min</td>\n",
       "      <td>As her father nears the end of his life, filmm...</td>\n",
       "      <td>Unknown</td>\n",
       "      <td>Kirsten Johnson</td>\n",
       "      <td>Documentaries</td>\n",
       "      <td>United States</td>\n",
       "    </tr>\n",
       "    <tr>\n",
       "      <th>1</th>\n",
       "      <td>s2</td>\n",
       "      <td>TV Show</td>\n",
       "      <td>Blood &amp; Water</td>\n",
       "      <td>2021-09-24</td>\n",
       "      <td>2021</td>\n",
       "      <td>Adults</td>\n",
       "      <td>2 Seasons</td>\n",
       "      <td>After crossing paths at a party, a Cape Town t...</td>\n",
       "      <td>Ama Qamata</td>\n",
       "      <td>Unknown</td>\n",
       "      <td>International TV Shows</td>\n",
       "      <td>South Africa</td>\n",
       "    </tr>\n",
       "    <tr>\n",
       "      <th>2</th>\n",
       "      <td>s2</td>\n",
       "      <td>TV Show</td>\n",
       "      <td>Blood &amp; Water</td>\n",
       "      <td>2021-09-24</td>\n",
       "      <td>2021</td>\n",
       "      <td>Adults</td>\n",
       "      <td>2 Seasons</td>\n",
       "      <td>After crossing paths at a party, a Cape Town t...</td>\n",
       "      <td>Ama Qamata</td>\n",
       "      <td>Unknown</td>\n",
       "      <td>TV Dramas</td>\n",
       "      <td>South Africa</td>\n",
       "    </tr>\n",
       "    <tr>\n",
       "      <th>3</th>\n",
       "      <td>s2</td>\n",
       "      <td>TV Show</td>\n",
       "      <td>Blood &amp; Water</td>\n",
       "      <td>2021-09-24</td>\n",
       "      <td>2021</td>\n",
       "      <td>Adults</td>\n",
       "      <td>2 Seasons</td>\n",
       "      <td>After crossing paths at a party, a Cape Town t...</td>\n",
       "      <td>Ama Qamata</td>\n",
       "      <td>Unknown</td>\n",
       "      <td>TV Mysteries</td>\n",
       "      <td>South Africa</td>\n",
       "    </tr>\n",
       "    <tr>\n",
       "      <th>4</th>\n",
       "      <td>s2</td>\n",
       "      <td>TV Show</td>\n",
       "      <td>Blood &amp; Water</td>\n",
       "      <td>2021-09-24</td>\n",
       "      <td>2021</td>\n",
       "      <td>Adults</td>\n",
       "      <td>2 Seasons</td>\n",
       "      <td>After crossing paths at a party, a Cape Town t...</td>\n",
       "      <td>Khosi Ngema</td>\n",
       "      <td>Unknown</td>\n",
       "      <td>International TV Shows</td>\n",
       "      <td>South Africa</td>\n",
       "    </tr>\n",
       "  </tbody>\n",
       "</table>\n",
       "</div>"
      ],
      "text/plain": [
       "  show_id     type                 title date_added  release_year  \\\n",
       "0      s1    Movie  Dick Johnson Is Dead 2021-09-25          2020   \n",
       "1      s2  TV Show         Blood & Water 2021-09-24          2021   \n",
       "2      s2  TV Show         Blood & Water 2021-09-24          2021   \n",
       "3      s2  TV Show         Blood & Water 2021-09-24          2021   \n",
       "4      s2  TV Show         Blood & Water 2021-09-24          2021   \n",
       "\n",
       "               rating   duration  \\\n",
       "0  Teen- Age above 12     90 min   \n",
       "1              Adults  2 Seasons   \n",
       "2              Adults  2 Seasons   \n",
       "3              Adults  2 Seasons   \n",
       "4              Adults  2 Seasons   \n",
       "\n",
       "                                         description         cast  \\\n",
       "0  As her father nears the end of his life, filmm...      Unknown   \n",
       "1  After crossing paths at a party, a Cape Town t...   Ama Qamata   \n",
       "2  After crossing paths at a party, a Cape Town t...   Ama Qamata   \n",
       "3  After crossing paths at a party, a Cape Town t...   Ama Qamata   \n",
       "4  After crossing paths at a party, a Cape Town t...  Khosi Ngema   \n",
       "\n",
       "          director               listed_in        country  \n",
       "0  Kirsten Johnson           Documentaries  United States  \n",
       "1          Unknown  International TV Shows   South Africa  \n",
       "2          Unknown               TV Dramas   South Africa  \n",
       "3          Unknown            TV Mysteries   South Africa  \n",
       "4          Unknown  International TV Shows   South Africa  "
      ]
     },
     "execution_count": 421,
     "metadata": {},
     "output_type": "execute_result"
    }
   ],
   "source": [
    "df_final = pd.merge(df, df_cast_director_genre_country, on='title', how='inner')\n",
    "df_final.head()"
   ]
  },
  {
   "cell_type": "code",
   "execution_count": 422,
   "id": "2a5cc5ac",
   "metadata": {},
   "outputs": [
    {
     "data": {
      "text/html": [
       "<div>\n",
       "<style scoped>\n",
       "    .dataframe tbody tr th:only-of-type {\n",
       "        vertical-align: middle;\n",
       "    }\n",
       "\n",
       "    .dataframe tbody tr th {\n",
       "        vertical-align: top;\n",
       "    }\n",
       "\n",
       "    .dataframe thead th {\n",
       "        text-align: right;\n",
       "    }\n",
       "</style>\n",
       "<table border=\"1\" class=\"dataframe\">\n",
       "  <thead>\n",
       "    <tr style=\"text-align: right;\">\n",
       "      <th></th>\n",
       "      <th>show_id</th>\n",
       "      <th>type</th>\n",
       "      <th>title</th>\n",
       "      <th>date_added</th>\n",
       "      <th>release_year</th>\n",
       "      <th>rating</th>\n",
       "      <th>duration</th>\n",
       "      <th>description</th>\n",
       "      <th>cast</th>\n",
       "      <th>director</th>\n",
       "      <th>listed_in</th>\n",
       "      <th>country</th>\n",
       "    </tr>\n",
       "  </thead>\n",
       "  <tbody>\n",
       "    <tr>\n",
       "      <th>0</th>\n",
       "      <td>s1</td>\n",
       "      <td>Movie</td>\n",
       "      <td>Dick Johnson Is Dead</td>\n",
       "      <td>2021-09-25</td>\n",
       "      <td>2020</td>\n",
       "      <td>Teen- Age above 12</td>\n",
       "      <td>90 min</td>\n",
       "      <td>As her father nears the end of his life, filmm...</td>\n",
       "      <td>Unknown</td>\n",
       "      <td>Kirsten Johnson</td>\n",
       "      <td>Documentaries</td>\n",
       "      <td>United States</td>\n",
       "    </tr>\n",
       "    <tr>\n",
       "      <th>1</th>\n",
       "      <td>s2</td>\n",
       "      <td>TV Show</td>\n",
       "      <td>Blood &amp; Water</td>\n",
       "      <td>2021-09-24</td>\n",
       "      <td>2021</td>\n",
       "      <td>Adults</td>\n",
       "      <td>2 Seasons</td>\n",
       "      <td>After crossing paths at a party, a Cape Town t...</td>\n",
       "      <td>Ama Qamata</td>\n",
       "      <td>Unknown</td>\n",
       "      <td>International TV Shows</td>\n",
       "      <td>South Africa</td>\n",
       "    </tr>\n",
       "    <tr>\n",
       "      <th>2</th>\n",
       "      <td>s2</td>\n",
       "      <td>TV Show</td>\n",
       "      <td>Blood &amp; Water</td>\n",
       "      <td>2021-09-24</td>\n",
       "      <td>2021</td>\n",
       "      <td>Adults</td>\n",
       "      <td>2 Seasons</td>\n",
       "      <td>After crossing paths at a party, a Cape Town t...</td>\n",
       "      <td>Ama Qamata</td>\n",
       "      <td>Unknown</td>\n",
       "      <td>TV Dramas</td>\n",
       "      <td>South Africa</td>\n",
       "    </tr>\n",
       "    <tr>\n",
       "      <th>3</th>\n",
       "      <td>s2</td>\n",
       "      <td>TV Show</td>\n",
       "      <td>Blood &amp; Water</td>\n",
       "      <td>2021-09-24</td>\n",
       "      <td>2021</td>\n",
       "      <td>Adults</td>\n",
       "      <td>2 Seasons</td>\n",
       "      <td>After crossing paths at a party, a Cape Town t...</td>\n",
       "      <td>Ama Qamata</td>\n",
       "      <td>Unknown</td>\n",
       "      <td>TV Mysteries</td>\n",
       "      <td>South Africa</td>\n",
       "    </tr>\n",
       "    <tr>\n",
       "      <th>4</th>\n",
       "      <td>s2</td>\n",
       "      <td>TV Show</td>\n",
       "      <td>Blood &amp; Water</td>\n",
       "      <td>2021-09-24</td>\n",
       "      <td>2021</td>\n",
       "      <td>Adults</td>\n",
       "      <td>2 Seasons</td>\n",
       "      <td>After crossing paths at a party, a Cape Town t...</td>\n",
       "      <td>Khosi Ngema</td>\n",
       "      <td>Unknown</td>\n",
       "      <td>International TV Shows</td>\n",
       "      <td>South Africa</td>\n",
       "    </tr>\n",
       "  </tbody>\n",
       "</table>\n",
       "</div>"
      ],
      "text/plain": [
       "  show_id     type                 title date_added  release_year  \\\n",
       "0      s1    Movie  Dick Johnson Is Dead 2021-09-25          2020   \n",
       "1      s2  TV Show         Blood & Water 2021-09-24          2021   \n",
       "2      s2  TV Show         Blood & Water 2021-09-24          2021   \n",
       "3      s2  TV Show         Blood & Water 2021-09-24          2021   \n",
       "4      s2  TV Show         Blood & Water 2021-09-24          2021   \n",
       "\n",
       "               rating   duration  \\\n",
       "0  Teen- Age above 12     90 min   \n",
       "1              Adults  2 Seasons   \n",
       "2              Adults  2 Seasons   \n",
       "3              Adults  2 Seasons   \n",
       "4              Adults  2 Seasons   \n",
       "\n",
       "                                         description         cast  \\\n",
       "0  As her father nears the end of his life, filmm...      Unknown   \n",
       "1  After crossing paths at a party, a Cape Town t...   Ama Qamata   \n",
       "2  After crossing paths at a party, a Cape Town t...   Ama Qamata   \n",
       "3  After crossing paths at a party, a Cape Town t...   Ama Qamata   \n",
       "4  After crossing paths at a party, a Cape Town t...  Khosi Ngema   \n",
       "\n",
       "          director               listed_in        country  \n",
       "0  Kirsten Johnson           Documentaries  United States  \n",
       "1          Unknown  International TV Shows   South Africa  \n",
       "2          Unknown               TV Dramas   South Africa  \n",
       "3          Unknown            TV Mysteries   South Africa  \n",
       "4          Unknown  International TV Shows   South Africa  "
      ]
     },
     "execution_count": 422,
     "metadata": {},
     "output_type": "execute_result"
    }
   ],
   "source": [
    "df_final1=df_final\n",
    "df_final1.head()"
   ]
  },
  {
   "cell_type": "markdown",
   "id": "af2dd419",
   "metadata": {},
   "source": [
    "4.1 For continuous variable(s): Distplot, countplot, histogram for univariate analysis (10 Points)\n",
    "\n",
    "4.2 For categorical variable(s): Boxplot (10 Points)\n",
    "\n",
    "4.3 For correlation: Heatmaps, Pairplots (10 Points)"
   ]
  },
  {
   "cell_type": "code",
   "execution_count": 423,
   "id": "71665d4c",
   "metadata": {},
   "outputs": [
    {
     "data": {
      "text/plain": [
       "<AxesSubplot:xlabel='type', ylabel='count'>"
      ]
     },
     "execution_count": 423,
     "metadata": {},
     "output_type": "execute_result"
    },
    {
     "data": {
      "image/png": "[encoded data removed]",
      "text/plain": [
       "<Figure size 432x288 with 1 Axes>"
      ]
     },
     "metadata": {
      "needs_background": "light"
     },
     "output_type": "display_data"
    }
   ],
   "source": [
    "sns.countplot(data=df,x='type')"
   ]
  },
  {
   "cell_type": "code",
   "execution_count": 424,
   "id": "0ee6626d",
   "metadata": {},
   "outputs": [
    {
     "name": "stderr",
     "output_type": "stream",
     "text": [
      "C:\\Users\\User\\anaconda3\\lib\\site-packages\\seaborn\\distributions.py:2619: FutureWarning: `distplot` is a deprecated function and will be removed in a future version. Please adapt your code to use either `displot` (a figure-level function with similar flexibility) or `histplot` (an axes-level function for histograms).\n",
      "  warnings.warn(msg, FutureWarning)\n"
     ]
    },
    {
     "data": {
      "text/plain": [
       "<AxesSubplot:xlabel='date_added', ylabel='Density'>"
      ]
     },
     "execution_count": 424,
     "metadata": {},
     "output_type": "execute_result"
    },
    {
     "data": {
      "image/png": "[encoded data removed]",
      "text/plain": [
       "<Figure size 432x288 with 1 Axes>"
      ]
     },
     "metadata": {
      "needs_background": "light"
     },
     "output_type": "display_data"
    }
   ],
   "source": [
    "sns.distplot(df_final1['date_added'].dt.year)"
   ]
  },
  {
   "cell_type": "code",
   "execution_count": 425,
   "id": "d116507b",
   "metadata": {},
   "outputs": [
    {
     "data": {
      "image/png": "[encoded data removed]",
      "text/plain": [
       "<Figure size 432x288 with 1 Axes>"
      ]
     },
     "metadata": {
      "needs_background": "light"
     },
     "output_type": "display_data"
    }
   ],
   "source": [
    "ax=sns.countplot(x=df['date_added'].dt.year,hue=df['type'],dodge = False)\n",
    "ax.tick_params(axis='x', rotation=90)"
   ]
  },
  {
   "cell_type": "code",
   "execution_count": 426,
   "id": "42443325",
   "metadata": {},
   "outputs": [
    {
     "data": {
      "image/png": "[encoded data removed]",
      "text/plain": [
       "<Figure size 432x288 with 1 Axes>"
      ]
     },
     "metadata": {
      "needs_background": "light"
     },
     "output_type": "display_data"
    }
   ],
   "source": [
    "ax=sns.histplot(x=df['rating'],hue=df['type'],multiple=\"stack\",kde=True)\n",
    "ax.tick_params(axis='x', rotation=90)"
   ]
  },
  {
   "cell_type": "code",
   "execution_count": 427,
   "id": "d04b1c42",
   "metadata": {},
   "outputs": [
    {
     "data": {
      "text/plain": [
       "<AxesSubplot:xlabel='release_year', ylabel='listed_in'>"
      ]
     },
     "execution_count": 427,
     "metadata": {},
     "output_type": "execute_result"
    },
    {
     "data": {
      "image/png": "[encoded data removed]",
      "text/plain": [
       "<Figure size 432x288 with 1 Axes>"
      ]
     },
     "metadata": {
      "needs_background": "light"
     },
     "output_type": "display_data"
    }
   ],
   "source": [
    "df_movie=df_final1[df_final1['type']=='Movie']\n",
    "#df_movie['listed_in'].value_counts()\n",
    "sns.boxplot(data=df_movie,y=df_movie['listed_in'],x=df_movie['release_year'])"
   ]
  },
  {
   "cell_type": "code",
   "execution_count": 428,
   "id": "cb47b472",
   "metadata": {},
   "outputs": [
    {
     "data": {
      "image/png": "[encoded data removed]",
      "text/plain": [
       "<Figure size 432x288 with 2 Axes>"
      ]
     },
     "metadata": {
      "needs_background": "light"
     },
     "output_type": "display_data"
    }
   ],
   "source": [
    "df_country_total=df_final1[['title','country','type']]\n",
    "df_country_total=df_country_total[df_country_total['country']!='Unknown']\n",
    "df_country_total=df_country_total.groupby(['type','country'])['title'].count().reset_index().sort_values('title', ascending=False)\n",
    "df_country_total.rename(columns = {'title':'count'},inplace=True)\n",
    "df_movie_country=df_country_total[df_country_total['type']=='Movie'].head(10)\n",
    "\n",
    "df_TvShow_country=df_country_total[df_country_total['type']=='TV Show'].head(10)\n",
    "\n",
    "fig, axes = plt.subplots(2, 1)\n",
    "#Movie\n",
    "sns.barplot(data=df_movie_country,x='country',y='count',ax=axes[0]).set(title='Top 10 Country in Movie')\n",
    "axes[0].tick_params(axis='x', rotation=90)\n",
    "\n",
    "sns.barplot(data=df_TvShow_country, x='country',y='count', ax=axes[1]).set(title='Top 10 Country in TV Show')\n",
    "axes[1].tick_params(axis='x', rotation=90)\n",
    "plt.subplots_adjust(left=0.1,bottom=0.1,right=2.5,top=1.5,wspace=0.5, hspace=0.5)\n",
    "\n",
    "\n",
    "plt.show()"
   ]
  },
  {
   "cell_type": "code",
   "execution_count": 429,
   "id": "6e374b3b",
   "metadata": {},
   "outputs": [
    {
     "data": {
      "text/plain": [
       "(1998.0, 2022.0)"
      ]
     },
     "execution_count": 429,
     "metadata": {},
     "output_type": "execute_result"
    },
    {
     "data": {
      "image/png": "[encoded data removed]",
      "text/plain": [
       "<Figure size 432x288 with 1 Axes>"
      ]
     },
     "metadata": {
      "needs_background": "light"
     },
     "output_type": "display_data"
    }
   ],
   "source": [
    "df_dist= df.groupby([\"release_year\",\"type\"])[\"show_id\"].count().reset_index()\n",
    "ax=sns.lineplot(data=df_dist,x='release_year',y='show_id',hue='type')\n",
    "ax.set_xlim(1998, 2022)\n"
   ]
  },
  {
   "cell_type": "code",
   "execution_count": 430,
   "id": "86bc9be7",
   "metadata": {},
   "outputs": [
    {
     "data": {
      "image/png": "[encoded data removed]",
      "text/plain": [
       "<Figure size 432x288 with 2 Axes>"
      ]
     },
     "metadata": {
      "needs_background": "light"
     },
     "output_type": "display_data"
    }
   ],
   "source": [
    "df_genre=df_final1[['title','type','listed_in']]\n",
    "df_genre=df_genre.groupby(['listed_in','type'])['title'].count().reset_index().sort_values('title',ascending=False)\n",
    "df_Movie_genre = df_genre[df_genre['type']=='Movie']\n",
    "df_TVShow_genre = df_genre[df_genre['type']=='TV Show']\n",
    "#sns.barplot(data=df_Movie_genre,x='title',y='listed_in')\n",
    "\n",
    "fig, axes = plt.subplots(1, 2)\n",
    "\n",
    "# Movie\n",
    "sns.barplot(ax=axes[0], x=df_Movie_genre.title, y=df_Movie_genre.listed_in)\n",
    "axes[0].set_title('Movie')\n",
    "# TV Show\n",
    "sns.barplot(ax=axes[1], x=df_TVShow_genre.title, y=df_TVShow_genre.listed_in)\n",
    "axes[1].set_title('TVShow')\n",
    "plt.subplots_adjust(left=0.1,\n",
    "                    bottom=0.1, \n",
    "                    right=2.5, \n",
    "                    top=1.5, \n",
    "                    wspace=0.5, \n",
    "                    hspace=0.5)\n",
    "plt.show()"
   ]
  },
  {
   "cell_type": "code",
   "execution_count": 431,
   "id": "802538e0",
   "metadata": {},
   "outputs": [
    {
     "data": {
      "text/plain": [
       "<seaborn.axisgrid.PairGrid at 0x1e80dfe3f40>"
      ]
     },
     "execution_count": 431,
     "metadata": {},
     "output_type": "execute_result"
    },
    {
     "data": {
      "image/png": "[encoded data removed]",
      "text/plain": [
       "<Figure size 210.125x180 with 2 Axes>"
      ]
     },
     "metadata": {
      "needs_background": "light"
     },
     "output_type": "display_data"
    }
   ],
   "source": [
    "sns.pairplot(df, hue=\"type\")"
   ]
  },
  {
   "cell_type": "code",
   "execution_count": 432,
   "id": "dd580033",
   "metadata": {},
   "outputs": [
    {
     "name": "stderr",
     "output_type": "stream",
     "text": [
      "C:\\Users\\User\\AppData\\Local\\Temp\\ipykernel_5904\\108242813.py:3: SettingWithCopyWarning: \n",
      "A value is trying to be set on a copy of a slice from a DataFrame.\n",
      "Try using .loc[row_indexer,col_indexer] = value instead\n",
      "\n",
      "See the caveats in the documentation: https://pandas.pydata.org/pandas-docs/stable/user_guide/indexing.html#returning-a-view-versus-a-copy\n",
      "  df_movie_duration['duration']=df_movie_duration['duration'].str.split(\" \").str[0].astype(int)\n"
     ]
    },
    {
     "data": {
      "image/png": "[encoded data removed]",
      "text/plain": [
       "<Figure size 432x288 with 2 Axes>"
      ]
     },
     "metadata": {
      "needs_background": "light"
     },
     "output_type": "display_data"
    }
   ],
   "source": [
    "df_movie_duration=df[df['type']=='Movie']\n",
    "\n",
    "df_movie_duration['duration']=df_movie_duration['duration'].str.split(\" \").str[0].astype(int)\n",
    "\n",
    "df_TVShow_duration=df[df['type']=='TV Show']\n",
    "df_TVShow_duration=df_TVShow_duration[['title','duration']]\n",
    "df_TVShow_duration=df_TVShow_duration.groupby(['duration'])['title'].count().reset_index().sort_values('title',ascending=False)\n",
    "\n",
    "fig, axes = plt.subplots(2, 1)\n",
    "\n",
    "#create chart in each subplot\n",
    "sns.histplot(x=df_movie_duration['duration'],bins=20, ax=axes[0])\n",
    "\n",
    "sns.barplot(data=df_TVShow_duration, x='duration',y='title', ax=axes[1])\n",
    "axes[1].tick_params(axis='x', rotation=90)\n",
    "\n",
    "plt.subplots_adjust(\n",
    "                    right=2.5, \n",
    "                    top=1.5, \n",
    "                    hspace=0.5)\n",
    "\n",
    "plt.show()\n",
    "\n"
   ]
  },
  {
   "cell_type": "code",
   "execution_count": null,
   "id": "492f5cbd",
   "metadata": {},
   "outputs": [],
   "source": []
  },
  {
   "cell_type": "markdown",
   "id": "56411427",
   "metadata": {},
   "source": [
    "# Insight's"
   ]
  },
  {
   "cell_type": "markdown",
   "id": "ba08e040",
   "metadata": {},
   "source": [
    "=> **Adults** and **Teen above age 17** Both caombined has high viewing time.\n",
    "    So they are the Target Audience.\n",
    "    \n",
    "=> For Movies it is Around between **90min - 120 min**. For TV Show mostly have **1 Season** beacuse every TV Show's Have one Season.\n",
    "\n",
    "=>  Movies which released between **1970-2000** are Classic Movies.Cult movie Are which released between  **1990-2010** \n",
    "\n",
    "=>  There is a Sight Drop in overall Movie & Tv Show Due to **Covid Pandemic or Some other reasons**\n",
    "\n"
   ]
  },
  {
   "cell_type": "markdown",
   "id": "60be5811",
   "metadata": {},
   "source": [
    "#  Business Decision      "
   ]
  },
  {
   "cell_type": "markdown",
   "id": "8509f522",
   "metadata": {},
   "source": [
    "=> **India has higher number of Movie than TV Shows**.So We Need to Focus on Launching More Movies in india than TV Shows.\n",
    "Like Wise **South Korea has Higher Number of TV shows than Movies**.\n",
    "\n",
    "\n",
    "=> A Lot of Movies & TV Show  with genre in **Drama, Comedy, Action, Adventure**\n",
    "are most Common and Have Higher Audience.Therfore we can concenrate on similar Genre.\n",
    "\n",
    "\n",
    "=> Most of our Viewer are **Adults** and **Teen Above age 17**.we Have to focus on more contents to satisfy the need of this Age group."
   ]
  },
  {
   "cell_type": "code",
   "execution_count": null,
   "id": "b62b3cc7",
   "metadata": {},
   "outputs": [],
   "source": []
  }
 ],
 "metadata": {
  "kernelspec": {
   "display_name": "Python 3 (ipykernel)",
   "language": "python",
   "name": "python3"
  },
  "language_info": {
   "codemirror_mode": {
    "name": "ipython",
    "version": 3
   },
   "file_extension": ".py",
   "mimetype": "text/x-python",
   "name": "python",
   "nbconvert_exporter": "python",
   "pygments_lexer": "ipython3",
   "version": "3.9.12"
  }
 },
 "nbformat": 4,
 "nbformat_minor": 5
}
